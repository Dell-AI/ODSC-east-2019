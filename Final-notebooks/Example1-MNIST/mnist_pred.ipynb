{
 "cells": [
  {
   "cell_type": "markdown",
   "metadata": {},
   "source": [
    "# Evaluate the MNIST model by loading the weights"
   ]
  },
  {
   "cell_type": "markdown",
   "metadata": {},
   "source": [
    "This is an example to demonstrate how we can perform predictions by loading a trained model"
   ]
  },
  {
   "cell_type": "code",
   "execution_count": 1,
   "metadata": {},
   "outputs": [
    {
     "name": "stderr",
     "output_type": "stream",
     "text": [
      "/usr/lib64/python2.7/site-packages/h5py/__init__.py:36: FutureWarning: Conversion of the second argument of issubdtype from `float` to `np.floating` is deprecated. In future, it will be treated as `np.float64 == np.dtype(float).type`.\n",
      "  from ._conv import register_converters as _register_converters\n"
     ]
    }
   ],
   "source": [
    "import warnings\n",
    "warnings.filterwarnings(\"ignore\", message = \"numpy.dtype size changed\")\n",
    "\n",
    "import tensorflow as tf\n",
    "from zoo import init_nncontext\n",
    "from zoo.pipeline.api.net import TFDataset, TFPredictor\n",
    "import numpy as np\n",
    "import sys\n",
    "from tensorflow.keras.models import Model\n",
    "from tensorflow.keras.layers import *\n",
    "\n",
    "from bigdl.dataset import mnist\n",
    "from bigdl.dataset.transformer import *\n",
    "\n",
    "import mnist_utilities_workshop"
   ]
  },
  {
   "cell_type": "markdown",
   "metadata": {},
   "source": [
    "## Define the model"
   ]
  },
  {
   "cell_type": "code",
   "execution_count": 2,
   "metadata": {},
   "outputs": [],
   "source": [
    "data = Input(shape=[28, 28, 1])\n",
    "\n",
    "x = Flatten()(data)\n",
    "x = Dense(64, activation='relu')(x)\n",
    "x = Dense(64, activation='relu')(x)\n",
    "predictions = Dense(10, activation='softmax')(x)\n",
    "\n",
    "model = Model(inputs=data, outputs=predictions)"
   ]
  },
  {
   "cell_type": "markdown",
   "metadata": {},
   "source": [
    "## Load the pretrained model"
   ]
  },
  {
   "cell_type": "code",
   "execution_count": null,
   "metadata": {},
   "outputs": [],
   "source": [
    "model.load_weights(\"mnist_keras.h5\")"
   ]
  },
  {
   "cell_type": "markdown",
   "metadata": {},
   "source": [
    "## Build the predictor"
   ]
  },
  {
   "cell_type": "code",
   "execution_count": 3,
   "metadata": {},
   "outputs": [
    {
     "name": "stdout",
     "output_type": "stream",
     "text": [
      "('Extracting', '/tmp/mnist/t10k-images-idx3-ubyte.gz')\n",
      "('Extracting', '/tmp/mnist/t10k-labels-idx1-ubyte.gz')\n",
      "INFO:tensorflow:Froze 6 variables.\n",
      "INFO:tensorflow:Converted 6 variables to const ops.\n",
      "creating: createTFNet\n"
     ]
    }
   ],
   "source": [
    "sc = init_nncontext()\n",
    "        # get data, pre-process and create TFDataset\n",
    "(images_data, labels_data) = mnist_utilities_workshop.ws_read_data_sets(\"/opt/work/ODSC-east-2019/datasets/mnist/\", \"test\")\n",
    "image_rdd = sc.parallelize(images_data[:100])\n",
    "labels_rdd = sc.parallelize(labels_data[:100])\n",
    "rdd = image_rdd.zip(labels_rdd).map(lambda rec_tuple: [normalizer(rec_tuple[0], mnist.TRAIN_MEAN, mnist.TRAIN_STD)])\n",
    "\n",
    "dataset = TFDataset.from_rdd(rdd,\n",
    "                                     names=[\"features\"],\n",
    "                                     shapes=[[28, 28, 1]],\n",
    "                                     types=[tf.float32],\n",
    "                                     batch_per_thread=20\n",
    "                                     )\n",
    "predictor = TFPredictor.from_keras(model, dataset)"
   ]
  },
  {
   "cell_type": "markdown",
   "metadata": {},
   "source": [
    "## Predict"
   ]
  },
  {
   "cell_type": "code",
   "execution_count": 4,
   "metadata": {},
   "outputs": [
    {
     "name": "stdout",
     "output_type": "stream",
     "text": [
      "predict accuracy is 0.99\n"
     ]
    }
   ],
   "source": [
    "accuracy = predictor.predict().zip(labels_rdd).map(lambda x: np.argmax(x[0]) == x[1]).mean()\n",
    "print(\"predict accuracy is %s\" % accuracy)"
   ]
  }
 ],
 "metadata": {
  "kernelspec": {
   "display_name": "Python 2",
   "language": "python",
   "name": "python2"
  },
  "language_info": {
   "codemirror_mode": {
    "name": "ipython",
    "version": 2
   },
   "file_extension": ".py",
   "mimetype": "text/x-python",
   "name": "python",
   "nbconvert_exporter": "python",
   "pygments_lexer": "ipython2",
   "version": "2.7.5"
  }
 },
 "nbformat": 4,
 "nbformat_minor": 2
}
