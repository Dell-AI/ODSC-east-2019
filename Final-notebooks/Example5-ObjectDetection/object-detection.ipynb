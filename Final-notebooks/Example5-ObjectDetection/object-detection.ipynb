{
 "cells": [
  {
   "cell_type": "markdown",
   "metadata": {},
   "source": [
    "# Object Detection Using SSD"
   ]
  },
  {
   "cell_type": "markdown",
   "metadata": {},
   "source": [
    "Object detection detects instances of certain classes in digital images and videos (which can be regarded as sequences of images). In this notebook we demonstrate how to use pretrained Analytics Zoo model to detect objects in the video.\n",
    "\n",
    "We used one of the videos in Youtube-8M ([link](https://research.google.com/youtube8m/)) for demo, which is a scene of training a dog. We use our SSD-MobileNet model (downloadable from [link](https://github.com/intel-analytics/analytics-zoo/blob/a43f9b5d1a94b29a2455f12109fe46995b16a8a9/docs/docs/models/objectdetection/README.md)) pretrained on PASCAL VOC dataset ([link](http://host.robots.ox.ac.uk/pascal/VOC/)) for detection. It is able to detect 20 classes including person and dog. In the video the dogs and persons are are identified with boxes and class scores are shown on top.\n",
    "  \n",
    "References: \n",
    "* YouTube-8M: A Large and Diverse Labeled Video Dataset for Video Understanding Research ([link](https://research.google.com/youtube8m/))."
   ]
  },
  {
   "cell_type": "markdown",
   "metadata": {},
   "source": [
    "## Intialization"
   ]
  },
  {
   "cell_type": "markdown",
   "metadata": {},
   "source": [
    "* import necesary libraries"
   ]
  },
  {
   "cell_type": "code",
   "execution_count": 1,
   "metadata": {},
   "outputs": [
    {
     "name": "stdout",
     "output_type": "stream",
     "text": [
      "Populating the interactive namespace from numpy and matplotlib\n"
     ]
    }
   ],
   "source": [
    "import os\n",
    "from IPython.display import Image, display\n",
    "%pylab inline\n",
    "from moviepy.editor import *"
   ]
  },
  {
   "cell_type": "markdown",
   "metadata": {},
   "source": [
    "* import necessary modules"
   ]
  },
  {
   "cell_type": "code",
   "execution_count": 2,
   "metadata": {},
   "outputs": [],
   "source": [
    "from zoo.common.nncontext import *\n",
    "from zoo.feature.image import *\n",
    "from zoo.models.image.objectdetection import *"
   ]
  },
  {
   "cell_type": "markdown",
   "metadata": {},
   "source": [
    "* init SparkContext"
   ]
  },
  {
   "cell_type": "code",
   "execution_count": 3,
   "metadata": {},
   "outputs": [],
   "source": [
    "sc = init_nncontext(\"Object Detection Example\")"
   ]
  },
  {
   "cell_type": "markdown",
   "metadata": {},
   "source": [
    "## Load pretrained Analytics Zoo model"
   ]
  },
  {
   "cell_type": "markdown",
   "metadata": {},
   "source": [
    "* Here we use a SSD-MobileNet pretrained by PASCAL VOC dataset. \n",
    "\n",
    "Download [model](https://s3-ap-southeast-1.amazonaws.com/analytics-zoo-models/object-detection/analytics-zoo_ssd-mobilenet-300x300_PASCAL_0.1.0.model)"
   ]
  },
  {
   "cell_type": "code",
   "execution_count": 4,
   "metadata": {},
   "outputs": [
    {
     "name": "stdout",
     "output_type": "stream",
     "text": [
      "load model done\n"
     ]
    }
   ],
   "source": [
    "try:\n",
    "    model_path = \"/home/bala/odsc/ODSC-east-2019/models/analytics-zoo_ssd-mobilenet-300x300_PASCAL_0.1.0.model\"\n",
    "    model = ObjectDetector.load_model(model_path)\n",
    "    print(\"load model done\")\n",
    "except Exception as e:\n",
    "    print(\"The pretrain model doesn't exist\")\n",
    "    print(\"you can run $ANALYTICS_ZOO_HOME/apps/object-detection/download_model.sh to download the pretrain model\")"
   ]
  },
  {
   "cell_type": "markdown",
   "metadata": {},
   "source": [
    "## Load data"
   ]
  },
  {
   "cell_type": "markdown",
   "metadata": {},
   "source": [
    "* Load the video and get a short clip. Take this clip as a sequence of frames by given fps."
   ]
  },
  {
   "cell_type": "code",
   "execution_count": null,
   "metadata": {},
   "outputs": [],
   "source": [
    "try:\n",
    "    path = \"/home/bala/odsc/ODSC-east-2019/datasets/objdetect/train_dog.mp4\"\n",
    "    myclip = VideoFileClip(path).subclip(10,18)\n",
    "except Exception as e:\n",
    "    print(\"The video doesn't exist.\")\n",
    "    print(\"Please prepare the video first.\")\n",
    "\n",
    "# video_rdd = sc.parallelize(myclip.iter_frames(fps=5))\n",
    "# image_set = DistributedImageSet(video_rdd)"
   ]
  },
  {
   "cell_type": "markdown",
   "metadata": {},
   "source": [
    "## Predict and visualize detection back to clips"
   ]
  },
  {
   "cell_type": "markdown",
   "metadata": {},
   "source": [
    "* Having prepared the model, we can start detecting objects. \n",
    "\n",
    "Read the image as ImageSet(local/distributed) -> Perform prediction -> Visualize the detections in original images"
   ]
  },
  {
   "cell_type": "code",
   "execution_count": null,
   "metadata": {
    "scrolled": true
   },
   "outputs": [],
   "source": [
    "output = model.predict_image_set(image_set)\n",
    "\n",
    "config = model.get_config()\n",
    "visualizer = Visualizer(config.label_map())\n",
    "visualized = visualizer(output).get_image(to_chw=False).collect()"
   ]
  },
  {
   "cell_type": "markdown",
   "metadata": {},
   "source": [
    "## Save clips to file"
   ]
  },
  {
   "cell_type": "markdown",
   "metadata": {},
   "source": [
    "* Make sequence of frames back to a clip by given fps."
   ]
  },
  {
   "cell_type": "code",
   "execution_count": null,
   "metadata": {
    "scrolled": true
   },
   "outputs": [],
   "source": [
    "clip = ImageSequenceClip(visualized, fps=5)\n",
    "\n",
    "output_path = '/tmp/out.mp4'\n",
    "clip.write_videofile(output_path, audio=False)\n",
    "clip.write_gif(\"train_dog.gif\")"
   ]
  },
  {
   "cell_type": "markdown",
   "metadata": {},
   "source": [
    "## Display Object Detection Video "
   ]
  },
  {
   "cell_type": "markdown",
   "metadata": {},
   "source": [
    "* Display the prediction of the model."
   ]
  },
  {
   "cell_type": "code",
   "execution_count": null,
   "metadata": {
    "scrolled": true
   },
   "outputs": [],
   "source": [
    "with open(\"train_dog.gif\",'rb') as f:\n",
    "    display(Image(f.read()))"
   ]
  }
 ],
 "metadata": {
  "kernelspec": {
   "display_name": "Python 2",
   "language": "python",
   "name": "python2"
  },
  "language_info": {
   "codemirror_mode": {
    "name": "ipython",
    "version": 2
   },
   "file_extension": ".py",
   "mimetype": "text/x-python",
   "name": "python",
   "nbconvert_exporter": "python",
   "pygments_lexer": "ipython2",
   "version": "2.7.5"
  },
  "toc": {
   "base_numbering": 1,
   "nav_menu": {},
   "number_sections": true,
   "sideBar": true,
   "skip_h1_title": false,
   "title_cell": "Table of Contents",
   "title_sidebar": "Contents",
   "toc_cell": false,
   "toc_position": {},
   "toc_section_display": true,
   "toc_window_display": false
  }
 },
 "nbformat": 4,
 "nbformat_minor": 1
}
