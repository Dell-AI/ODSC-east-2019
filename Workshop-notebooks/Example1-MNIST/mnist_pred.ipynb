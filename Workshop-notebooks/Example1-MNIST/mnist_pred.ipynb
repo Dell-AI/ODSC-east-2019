{
 "cells": [
  {
   "cell_type": "markdown",
   "metadata": {},
   "source": [
    "# Evaluate the MNIST model by loading the weights"
   ]
  },
  {
   "cell_type": "markdown",
   "metadata": {},
   "source": [
    "This is an example to demonstrate how we can perform predictions by loading a trained model"
   ]
  },
  {
   "cell_type": "code",
   "execution_count": 1,
   "metadata": {},
   "outputs": [
    {
     "name": "stderr",
     "output_type": "stream",
     "text": [
      "/usr/lib64/python2.7/site-packages/h5py/__init__.py:36: FutureWarning: Conversion of the second argument of issubdtype from `float` to `np.floating` is deprecated. In future, it will be treated as `np.float64 == np.dtype(float).type`.\n",
      "  from ._conv import register_converters as _register_converters\n"
     ]
    }
   ],
   "source": [
    "import warnings\n",
    "warnings.filterwarnings(\"ignore\", message = \"numpy.dtype size changed\")\n",
    "\n",
    "import tensorflow as tf\n",
    "from zoo import init_nncontext\n",
    "from zoo.pipeline.api.net import TFDataset, TFPredictor\n",
    "import numpy as np\n",
    "import sys\n",
    "from tensorflow.keras.models import Model\n",
    "from tensorflow.keras.layers import *\n",
    "\n",
    "from bigdl.dataset import mnist\n",
    "from bigdl.dataset.transformer import *\n",
    "\n",
    "import mnist_utilities_workshop"
   ]
  },
  {
   "cell_type": "markdown",
   "metadata": {},
   "source": [
    "## Define the model"
   ]
  },
  {
   "cell_type": "code",
   "execution_count": 2,
   "metadata": {},
   "outputs": [],
   "source": [
    "# Define the model"
   ]
  },
  {
   "cell_type": "markdown",
   "metadata": {},
   "source": [
    "## Load the pretrained model"
   ]
  },
  {
   "cell_type": "code",
   "execution_count": 3,
   "metadata": {},
   "outputs": [],
   "source": [
    "# load the weights"
   ]
  },
  {
   "cell_type": "markdown",
   "metadata": {},
   "source": [
    "## Build the predictor"
   ]
  },
  {
   "cell_type": "code",
   "execution_count": 4,
   "metadata": {},
   "outputs": [
    {
     "name": "stdout",
     "output_type": "stream",
     "text": [
      "('Extracting', '/home/bala/odsc/ODSC-east-2019/datasets/mnist/t10k-images-idx3-ubyte.gz')\n",
      "('Extracting', '/home/bala/odsc/ODSC-east-2019/datasets/mnist/t10k-labels-idx1-ubyte.gz')\n",
      "INFO:tensorflow:Froze 6 variables.\n",
      "INFO:tensorflow:Converted 6 variables to const ops.\n",
      "creating: createTFNet\n"
     ]
    }
   ],
   "source": [
    "sc = init_nncontext()\n",
    "\n",
    "(images_data, labels_data) = mnist_utilities_workshop.ws_read_data_sets(\"/opt/work/ODSC-east-2019/datasets/mnist/\", \"test\")\n",
    "image_rdd = sc.parallelize(images_data[:100])\n",
    "labels_rdd = sc.parallelize(labels_data[:100])\n",
    "rdd = image_rdd.zip(labels_rdd).map(lambda rec_tuple: [normalizer(rec_tuple[0], mnist.TRAIN_MEAN, mnist.TRAIN_STD)])\n",
    "\n",
    "dataset = \n",
    "predictor = "
   ]
  },
  {
   "cell_type": "markdown",
   "metadata": {},
   "source": [
    "## Predict"
   ]
  },
  {
   "cell_type": "code",
   "execution_count": 5,
   "metadata": {},
   "outputs": [
    {
     "name": "stdout",
     "output_type": "stream",
     "text": [
      "predict accuracy is 1.0\n"
     ]
    }
   ],
   "source": [
    "mnist_predict = # predict\n",
    "\n",
    "accuracy = mnist_predict.zip(labels_rdd).map(lambda x: np.argmax(x[0]) == x[1]).mean()\n",
    "print(\"predict accuracy is %s\" % accuracy)"
   ]
  },
  {
   "cell_type": "markdown",
   "metadata": {},
   "source": [
    "## Print a few predictions"
   ]
  },
  {
   "cell_type": "code",
   "execution_count": 7,
   "metadata": {},
   "outputs": [
    {
     "name": "stdout",
     "output_type": "stream",
     "text": [
      "Predicted Values are:\n",
      "[7, 2, 1, 0, 4, 1, 4, 9, 5, 9, 0, 6]\n"
     ]
    },
    {
     "data": {
      "image/png": "[encoded data removed]",
      "text/plain": [
       "<Figure size 432x288 with 1 Axes>"
      ]
     },
     "metadata": {
      "needs_background": "light"
     },
     "output_type": "display_data"
    }
   ],
   "source": [
    "from bigdl.util import common\n",
    "\n",
    "training_mean = 0.13066047740239506 * 255\n",
    "training_std = 0.3081078 * 255\n",
    "testing_mean = 0.13251460696903547 * 255\n",
    "testing_std = 0.31048024 * 255\n",
    "rdd_train_sample = image_rdd.zip(labels_rdd).map(lambda (features, label):\n",
    "                                        common.Sample.from_ndarray(\n",
    "                                        (features - testing_mean) / testing_std,\n",
    "                                        label + 1))\n",
    "from matplotlib.pyplot import imshow\n",
    "import matplotlib.pyplot as plt\n",
    "imshow(np.column_stack([np.array(s.features[0].to_ndarray()).reshape(28,28) for s in rdd_train_sample.take(12)]),cmap='gray'); plt.axis('off')\n",
    "print(\"Predicted Values are:\")\n",
    "print(map(lambda x: np.argmax(x),np.array(mnist_predict.collect()))[:12])"
   ]
  },
  {
   "cell_type": "markdown",
   "metadata": {},
   "source": [
    "## Can you try....\n",
    "1. Changing the number of Epochs\n",
    "2. Changing the number of dense layers\n",
    "3. How about activation function\n"
   ]
  }
 ],
 "metadata": {
  "kernelspec": {
   "display_name": "Python 2",
   "language": "python",
   "name": "python2"
  },
  "language_info": {
   "codemirror_mode": {
    "name": "ipython",
    "version": 2
   },
   "file_extension": ".py",
   "mimetype": "text/x-python",
   "name": "python",
   "nbconvert_exporter": "python",
   "pygments_lexer": "ipython2",
   "version": "2.7.5"
  }
 },
 "nbformat": 4,
 "nbformat_minor": 2
}
